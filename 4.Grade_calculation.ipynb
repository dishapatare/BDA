{
  "nbformat": 4,
  "nbformat_minor": 0,
  "metadata": {
    "colab": {
      "provenance": []
    },
    "kernelspec": {
      "name": "python3",
      "display_name": "Python 3"
    },
    "language_info": {
      "name": "python"
    }
  },
  "cells": [
    {
      "cell_type": "code",
      "source": [
        "# Sample data: (Student Name, Subject, Marks)\n",
        "data = [\n",
        "    (\"Alice\", \"Math\", 85),\n",
        "    (\"Alice\", \"English\", 92),\n",
        "    (\"Bob\", \"Math\", 76),\n",
        "    (\"Bob\", \"English\", 88),\n",
        "    (\"disha\", \"Math\", 67),\n",
        "    (\"disha\", \"Science\", 59),\n",
        "    (\"David\", \"Math\", 73),\n",
        "    (\"Eva\", \"English\", 58),\n",
        "    (\"Frank\", \"Science\", 80)\n",
        "]\n",
        "\n",
        "# Map Function: emits (student_name, marks)\n",
        "def mapper(record):\n",
        "    name, subject, marks = record\n",
        "    return (name, marks)\n",
        "\n",
        "mapped_results = list(map(mapper, data))\n",
        "\n",
        "# Shuffle and Sort Function: groups marks by student (without defaultdict)\n",
        "def shuffle_and_sort(mapped_results):\n",
        "    grouped = {}\n",
        "    for name, marks in mapped_results:\n",
        "        if name in grouped:\n",
        "          grouped[name].append(marks)\n",
        "        else:\n",
        "          grouped[name] = [marks]\n",
        "    return grouped.items()\n",
        "\n",
        "grouped_data = shuffle_and_sort(mapped_results)\n",
        "\n",
        "# Reduce Function: calculates average and assigns grade\n",
        "def reducer(grouped_data):\n",
        "    graded_students = {}\n",
        "    for student, marks in grouped_data:\n",
        "        avg = sum(marks) / len(marks)\n",
        "        if avg >= 90:\n",
        "            grade = 'A'\n",
        "        elif avg >= 80:\n",
        "            grade = 'B'\n",
        "        elif avg >= 70:\n",
        "            grade = 'C'\n",
        "        elif avg >= 60:\n",
        "            grade = 'D'\n",
        "        else:\n",
        "            grade = 'F'\n",
        "        graded_students[student] = (round(avg, 2), grade)\n",
        "    return graded_students\n",
        "\n",
        "final_results = reducer(grouped_data)\n",
        "\n",
        "# Output\n",
        "print(\"Student\\t\\tAverage\\tGrade\")\n",
        "for student, (avg, grade) in final_results.items():\n",
        "    print(f\"{student} \\t:\\t{avg}\\t{grade}\")"
      ],
      "metadata": {
        "id": "2-XKoLA9zuWu",
        "colab": {
          "base_uri": "https://localhost:8080/"
        },
        "outputId": "dbda3aec-0380-41ba-a5ba-1c014b635916"
      },
      "execution_count": 1,
      "outputs": [
        {
          "output_type": "stream",
          "name": "stdout",
          "text": [
            "Student\t\tAverage\tGrade\n",
            "Alice \t:\t88.5\tB\n",
            "Bob \t:\t82.0\tB\n",
            "disha \t:\t63.0\tD\n",
            "David \t:\t73.0\tC\n",
            "Eva \t:\t58.0\tF\n",
            "Frank \t:\t80.0\tB\n"
          ]
        }
      ]
    },
    {
      "cell_type": "code",
      "source": [],
      "metadata": {
        "id": "bOSZ1S1w9rHi"
      },
      "execution_count": null,
      "outputs": []
    }
  ]
}