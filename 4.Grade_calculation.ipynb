{
  "nbformat": 4,
  "nbformat_minor": 0,
  "metadata": {
    "colab": {
      "provenance": []
    },
    "kernelspec": {
      "name": "python3",
      "display_name": "Python 3"
    },
    "language_info": {
      "name": "python"
    }
  },
  "cells": [
    {
      "cell_type": "code",
      "execution_count": null,
      "metadata": {
        "colab": {
          "base_uri": "https://localhost:8080/"
        },
        "id": "anvfEWMkeqZ7",
        "outputId": "bfcaf38b-7348-4c8b-b297-3904c8c926b1"
      },
      "outputs": [
        {
          "output_type": "stream",
          "name": "stdout",
          "text": [
            "Alice: B Grade\n",
            "Bob: A Grade\n",
            "Charlie: D Grade\n",
            "David: C Grade\n",
            "Eva: F Grade\n",
            "Frank: B Grade\n"
          ]
        }
      ],
      "source": [
        "# Sample data: (Student Name, Marks)\n",
        "data = [\n",
        "    (\"Alice\", 85),\n",
        "    (\"Bob\", 92),\n",
        "    (\"Charlie\", 67),\n",
        "    (\"David\", 73),\n",
        "    (\"Eva\", 58),\n",
        "    (\"Frank\", 80)\n",
        "]\n",
        "\n",
        "# Map Function: emits (name, grade)\n",
        "def mapper(record):\n",
        "    name, marks = record\n",
        "    if marks >= 90:\n",
        "        return (name, 'A Grade')\n",
        "    elif marks >= 80:\n",
        "        return (name, 'B Grade')\n",
        "    elif marks >= 70:\n",
        "        return (name, 'C Grade')\n",
        "    elif marks >= 60:\n",
        "        return (name, 'D Grade')\n",
        "    else:\n",
        "        return (name, 'F Grade')\n",
        "\n",
        "# Reduce Function: formats and prints results\n",
        "def reducer(mapped_data):\n",
        "    for name, grade in mapped_data:\n",
        "        print(f\"{name}: {grade}\")\n",
        "\n",
        "# Run MapReduce\n",
        "mapped = list(map(mapper, data))\n",
        "reducer(mapped)\n"
      ]
    },
    {
      "cell_type": "code",
      "source": [],
      "metadata": {
        "id": "2-XKoLA9zuWu"
      },
      "execution_count": null,
      "outputs": []
    }
  ]
}