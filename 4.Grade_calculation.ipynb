{
  "nbformat": 4,
  "nbformat_minor": 0,
  "metadata": {
    "colab": {
      "provenance": []
    },
    "kernelspec": {
      "name": "python3",
      "display_name": "Python 3"
    },
    "language_info": {
      "name": "python"
    }
  },
  "cells": [
    {
      "cell_type": "code",
      "execution_count": null,
      "metadata": {
        "colab": {
          "base_uri": "https://localhost:8080/"
        },
        "id": "anvfEWMkeqZ7",
        "outputId": "b51f35eb-85c6-4139-f6da-7abaf3f04fe7"
      },
      "outputs": [
        {
          "output_type": "stream",
          "name": "stdout",
          "text": [
            "Alice: B Grade\n",
            "Bob: A Grade\n",
            "Charlie: D Grade\n",
            "David: C Grade\n",
            "Eva: F Grade\n",
            "Frank: B Grade\n"
          ]
        }
      ],
      "source": [
        "# Sample data: (Student Name, Marks)\n",
        "data = [\n",
        "    (\"Alice\", 85),\n",
        "    (\"Bob\", 92),\n",
        "    (\"Charlie\", 67),\n",
        "    (\"David\", 73),\n",
        "    (\"Eva\", 58),\n",
        "    (\"Frank\", 80)\n",
        "]\n",
        "\n",
        "# Map Function: emits (name, grade)\n",
        "def mapper(record):\n",
        "    name, marks = record\n",
        "    if marks >= 90:\n",
        "        grade = 'A Grade'\n",
        "    elif marks >= 80:\n",
        "        grade = 'B Grade'\n",
        "    elif marks >= 70:\n",
        "        grade = 'C Grade'\n",
        "    elif marks >= 60:\n",
        "        grade = 'D Grade'\n",
        "    else:\n",
        "        grade = 'F Grade'\n",
        "    return (name, grade)\n",
        "\n",
        "# Reduce Function: just passes along the mapped result (no aggregation needed here)\n",
        "def reducer(mapped_data):\n",
        "    return dict(mapped_data)\n",
        "\n",
        "# Run Map\n",
        "mapped_results = list(map(mapper, data))\n",
        "\n",
        "# Run Reduce\n",
        "final_results = reducer(mapped_results)\n",
        "\n",
        "# Output\n",
        "for student, grade in final_results.items():\n",
        "    print(f\"{student}: {grade}\")"
      ]
    }
  ]
}