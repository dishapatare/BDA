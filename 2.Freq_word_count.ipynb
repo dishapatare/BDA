{
  "nbformat": 4,
  "nbformat_minor": 0,
  "metadata": {
    "colab": {
      "provenance": []
    },
    "kernelspec": {
      "name": "python3",
      "display_name": "Python 3"
    },
    "language_info": {
      "name": "python"
    }
  },
  "cells": [
    {
      "cell_type": "markdown",
      "source": [
        "**Reducer function**"
      ],
      "metadata": {
        "id": "nkwgOZe35kDd"
      }
    },
    {
      "cell_type": "code",
      "source": [
        "def reducer(shuffled_data):\n",
        "    final_count = {}\n",
        "    for word, counts in shuffled_data:\n",
        "        final_count[word] = sum(counts)\n",
        "    return final_count"
      ],
      "metadata": {
        "id": "5E3tr0k34ezE"
      },
      "execution_count": null,
      "outputs": []
    },
    {
      "cell_type": "markdown",
      "source": [
        "**Sample Text**"
      ],
      "metadata": {
        "id": "EMeAyrAC5ppE"
      }
    },
    {
      "cell_type": "code",
      "source": [
        "\n",
        "if __name__ == \"__main__\":\n",
        "    input_text = \"\"\"\n",
        "    MapReduce is a programming model for processing large data\n",
        "    MapReduce is useful for big data processing\n",
        "    Big data needs efficient processing techniques\n",
        "    \"\"\""
      ],
      "metadata": {
        "id": "W2aadwv44iDl"
      },
      "execution_count": null,
      "outputs": []
    },
    {
      "cell_type": "markdown",
      "source": [
        "**Split input into lines**"
      ],
      "metadata": {
        "id": "LruFaAim5vxU"
      }
    },
    {
      "cell_type": "code",
      "source": [
        "lines = input_text.strip().split(\"\\n\")"
      ],
      "metadata": {
        "id": "O6j01_At4ta8"
      },
      "execution_count": null,
      "outputs": []
    },
    {
      "cell_type": "markdown",
      "source": [
        "**Mapping Phase**"
      ],
      "metadata": {
        "id": "dyAFody65ztH"
      }
    },
    {
      "cell_type": "code",
      "execution_count": null,
      "metadata": {
        "id": "oSCxrBJ-4U89"
      },
      "outputs": [],
      "source": [
        "def mapper(text):\n",
        "    words = text.split()\n",
        "    for word in words:\n",
        "        yield word.lower(), 1"
      ]
    },
    {
      "cell_type": "code",
      "source": [
        "mapped_results = []\n",
        "for line in lines:\n",
        "  mapped_results.extend(mapper(line))"
      ],
      "metadata": {
        "id": "zDJ7n2VF4uQI"
      },
      "execution_count": null,
      "outputs": []
    },
    {
      "cell_type": "markdown",
      "source": [
        "**Shuffling and Sorting**"
      ],
      "metadata": {
        "id": "t3eeqDDg6g39"
      }
    },
    {
      "cell_type": "code",
      "source": [
        "def shuffle_and_sort(mapped_results):\n",
        "    shuffled_data = {}\n",
        "    for word, count in mapped_results:  # Iterate over (word, count) tuples\n",
        "        if word in shuffled_data:\n",
        "            shuffled_data[word].append(count)\n",
        "        else:\n",
        "            shuffled_data[word] = [count]\n",
        "    # Sort the keys alphabetically\n",
        "    sorted_data = sorted(shuffled_data.items())\n",
        "    return sorted_data"
      ],
      "metadata": {
        "id": "IE7B7Fvr4Z0F"
      },
      "execution_count": null,
      "outputs": []
    },
    {
      "cell_type": "code",
      "source": [
        "shuffled_data = shuffle_and_sort(mapped_results)"
      ],
      "metadata": {
        "id": "mcS-oJDa4yGs"
      },
      "execution_count": null,
      "outputs": []
    },
    {
      "cell_type": "markdown",
      "source": [
        "**Reduce Phase**"
      ],
      "metadata": {
        "id": "Ics3zLqW6j5j"
      }
    },
    {
      "cell_type": "code",
      "source": [
        "final_word_count = reducer(shuffled_data)"
      ],
      "metadata": {
        "id": "uIncqub944gr"
      },
      "execution_count": null,
      "outputs": []
    },
    {
      "cell_type": "markdown",
      "source": [
        "**Output the result**"
      ],
      "metadata": {
        "id": "zsI63mCQ6nJ-"
      }
    },
    {
      "cell_type": "code",
      "source": [
        "print(\"Word Frequency:\")\n",
        "for word, count in final_word_count.items():\n",
        "  print(f\"{word}: {count}\")"
      ],
      "metadata": {
        "colab": {
          "base_uri": "https://localhost:8080/"
        },
        "id": "2oo1_cnk4-SI",
        "outputId": "3ecc5e8a-254b-4eac-c770-857d7fd2b5df"
      },
      "execution_count": null,
      "outputs": [
        {
          "output_type": "stream",
          "name": "stdout",
          "text": [
            "Word Frequency:\n",
            "a: 1\n",
            "big: 2\n",
            "data: 3\n",
            "efficient: 1\n",
            "for: 2\n",
            "is: 2\n",
            "large: 1\n",
            "mapreduce: 2\n",
            "model: 1\n",
            "needs: 1\n",
            "processing: 3\n",
            "programming: 1\n",
            "techniques: 1\n",
            "useful: 1\n"
          ]
        }
      ]
    },
    {
      "cell_type": "code",
      "source": [],
      "metadata": {
        "id": "GHiBynjv5Dqi"
      },
      "execution_count": null,
      "outputs": []
    }
  ]
}