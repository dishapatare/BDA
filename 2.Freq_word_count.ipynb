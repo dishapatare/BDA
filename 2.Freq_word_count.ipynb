{
  "nbformat": 4,
  "nbformat_minor": 0,
  "metadata": {
    "colab": {
      "provenance": []
    },
    "kernelspec": {
      "name": "python3",
      "display_name": "Python 3"
    },
    "language_info": {
      "name": "python"
    }
  },
  "cells": [
    {
      "cell_type": "code",
      "source": [
        "input_text = \"\"\"\n",
        "    MapReduce is a programming model for processing large data\n",
        "    MapReduce is useful for big data processing\n",
        "    Big data needs efficient processing techniques\n",
        "    \"\"\"\n",
        "\n",
        "lines = input_text.strip().split(\"\\n\")\n",
        "\n",
        "def mapper(text):\n",
        "    words = text.split()\n",
        "    for word in words:\n",
        "        yield word.lower(), 1\n",
        "\n",
        "mapped_results = []\n",
        "for line in lines:\n",
        "  mapped_results.extend(mapper(line))\n",
        "\n",
        "def shuffle_and_sort(mapped_results):\n",
        "    shuffled_data = {}\n",
        "    for word, count in mapped_results:  # Iterate over (word, count) tuples\n",
        "        if word in shuffled_data:\n",
        "            shuffled_data[word].append(count)\n",
        "        else:\n",
        "            shuffled_data[word] = [count]\n",
        "    # Sort the keys alphabetically\n",
        "    sorted_data = sorted(shuffled_data.items())\n",
        "    return sorted_data\n",
        "\n",
        "shuffled_data = shuffle_and_sort(mapped_results)\n",
        "\n",
        "def reducer(shuffled_data):\n",
        "    final_count = {}\n",
        "    for word, counts in shuffled_data:\n",
        "        final_count[word] = sum(counts)\n",
        "    return final_count\n",
        "\n",
        "final_word_count = reducer(shuffled_data)\n",
        "\n",
        "print(\"Word Frequency:\")\n",
        "for word, count in final_word_count.items():\n",
        "  print(f\"{word}: {count}\")"
      ],
      "metadata": {
        "id": "W2aadwv44iDl",
        "colab": {
          "base_uri": "https://localhost:8080/"
        },
        "outputId": "94ededea-41ed-46ad-ddd2-5329fbbf4008"
      },
      "execution_count": null,
      "outputs": [
        {
          "output_type": "stream",
          "name": "stdout",
          "text": [
            "Word Frequency:\n",
            "a: 1\n",
            "big: 2\n",
            "data: 3\n",
            "efficient: 1\n",
            "for: 2\n",
            "is: 2\n",
            "large: 1\n",
            "mapreduce: 2\n",
            "model: 1\n",
            "needs: 1\n",
            "processing: 3\n",
            "programming: 1\n",
            "techniques: 1\n",
            "useful: 1\n"
          ]
        }
      ]
    },
    {
      "cell_type": "code",
      "source": [],
      "metadata": {
        "id": "GHiBynjv5Dqi"
      },
      "execution_count": null,
      "outputs": []
    }
  ]
}
