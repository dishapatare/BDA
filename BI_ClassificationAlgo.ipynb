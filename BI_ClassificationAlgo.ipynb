{
  "nbformat": 4,
  "nbformat_minor": 0,
  "metadata": {
    "colab": {
      "provenance": []
    },
    "kernelspec": {
      "name": "python3",
      "display_name": "Python 3"
    },
    "language_info": {
      "name": "python"
    }
  },
  "cells": [
    {
      "cell_type": "code",
      "source": [
        "import pandas as pd\n",
        "from sklearn.model_selection import train_test_split\n",
        "from sklearn.ensemble import RandomForestClassifier\n",
        "from sklearn.metrics import confusion_matrix\n",
        "import matplotlib.pyplot as plt\n",
        "import seaborn as sns\n",
        "\n",
        "# 1. Preprocessing\n",
        "dataset = dataset.fillna('Missing')\n",
        "\n",
        "for column in dataset.columns:\n",
        "    dataset[column] = dataset[column].astype(str)\n",
        "\n",
        "from sklearn.preprocessing import LabelEncoder\n",
        "le = LabelEncoder()\n",
        "\n",
        "for column in dataset.columns:\n",
        "    dataset[column] = le.fit_transform(dataset[column])\n",
        "\n",
        "# 2. Define Features and Target\n",
        "target_column = 'Churn'\n",
        "\n",
        "if target_column not in dataset.columns:\n",
        "    raise ValueError(f\"'{target_column}' column not found in dataset!\")\n",
        "\n",
        "x = dataset.drop(target_column, axis=1)\n",
        "y = dataset[target_column]\n",
        "\n",
        "# 3. Train/Test Split\n",
        "x_train, x_test, y_train, y_test = train_test_split(x, y, test_size=0.2, random_state=42)\n",
        "\n",
        "# 4. Model Training\n",
        "model = RandomForestClassifier(n_estimators=100, random_state=42)\n",
        "model.fit(x_train, y_train)\n",
        "\n",
        "# 5. Predictions\n",
        "y_pred = model.predict(x_test)\n",
        "\n",
        "# 6. Create a Single Figure with Two Plots\n",
        "fig, axes = plt.subplots(1, 2, figsize=(16, 6))\n",
        "\n",
        "# Confusion Matrix\n",
        "cm = confusion_matrix(y_test, y_pred)\n",
        "sns.heatmap(cm, annot=True, fmt='d', cmap='Blues', ax=axes[0], xticklabels=['No Churn', 'Churn'], yticklabels=['No Churn', 'Churn'])\n",
        "axes[0].set_title('Confusion Matrix')\n",
        "axes[0].set_xlabel('Predicted')\n",
        "axes[0].set_ylabel('Actual')\n",
        "\n",
        "# Feature Importance\n",
        "feature_importance_df = pd.DataFrame({\n",
        "    'Feature': x.columns,\n",
        "    'Importance': model.feature_importances_\n",
        "}).sort_values('Importance', ascending=False)\n",
        "\n",
        "\n",
        "sns.barplot(x='Importance', y='Feature', data=feature_importance_df.head(10), palette='viridis', ax=axes[1])\n",
        "axes[1].set_title('Top 10 Important Features Influencing Churn')\n",
        "axes[1].set_xlabel('Importance Score')\n",
        "axes[1].set_ylabel('Feature')\n",
        "\n",
        "# Adjust layout\n",
        "plt.tight_layout()\n",
        "plt.show()"
      ],
      "metadata": {
        "id": "WJhipU154G5h"
      },
      "execution_count": null,
      "outputs": []
    },
    {
      "cell_type": "code",
      "source": [],
      "metadata": {
        "id": "PNSZCdMtyb7-"
      },
      "execution_count": null,
      "outputs": []
    }
  ]
}