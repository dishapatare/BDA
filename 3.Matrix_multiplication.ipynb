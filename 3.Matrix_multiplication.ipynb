{
  "nbformat": 4,
  "nbformat_minor": 0,
  "metadata": {
    "colab": {
      "provenance": []
    },
    "kernelspec": {
      "name": "python3",
      "display_name": "Python 3"
    },
    "language_info": {
      "name": "python"
    }
  },
  "cells": [
    {
      "cell_type": "markdown",
      "source": [
        "**Sample Matrix**"
      ],
      "metadata": {
        "id": "pYeCdbPBaqoY"
      }
    },
    {
      "cell_type": "code",
      "source": [
        "if __name__ == \"__main__\":\n",
        "    matrix_A = [\n",
        "        [1, 3],\n",
        "        [3, 4]\n",
        "    ]\n",
        "    matrix_B = [\n",
        "        [5, 4],\n",
        "        [7, 8]\n",
        "    ]"
      ],
      "metadata": {
        "id": "DgIjAQRuaox3"
      },
      "execution_count": null,
      "outputs": []
    },
    {
      "cell_type": "markdown",
      "source": [
        "**Define Dimensions**"
      ],
      "metadata": {
        "id": "kdx_H4G-awQX"
      }
    },
    {
      "cell_type": "code",
      "source": [
        "m = len(matrix_A)  # Rows in A\n",
        "n = len(matrix_A[0])  # Columns in A and rows in B\n",
        "p = len(matrix_B[0])  # Columns in B"
      ],
      "metadata": {
        "id": "WFCxJYnYat12"
      },
      "execution_count": null,
      "outputs": []
    },
    {
      "cell_type": "markdown",
      "source": [
        "**Mapping Phase**"
      ],
      "metadata": {
        "id": "3K8A0vKna3dl"
      }
    },
    {
      "cell_type": "code",
      "execution_count": null,
      "metadata": {
        "id": "oSUcCaoJaALq"
      },
      "outputs": [],
      "source": [
        "\n",
        "def mapper(matrix_A, matrix_B, m, n, p):\n",
        "    mapped_results = []\n",
        "\n",
        "    # Emit key-value pairs for matrix A\n",
        "    for i in range(m):\n",
        "        for j in range(n):\n",
        "            for k in range(p):\n",
        "                mapped_results.append(((i, k), (\"A\", j, matrix_A[i][j])))  # Fixed missing parenthesis\n",
        "\n",
        "    # Emit key-value pairs for matrix B\n",
        "    for j in range(n):\n",
        "        for k in range(p):\n",
        "            for i in range(m):\n",
        "                mapped_results.append(((i, k), (\"B\", j, matrix_B[j][k])))  # Fixed missing parenthesis\n",
        "\n",
        "    return mapped_results"
      ]
    },
    {
      "cell_type": "code",
      "source": [
        "mapped_results = mapper(matrix_A, matrix_B, m, n, p)"
      ],
      "metadata": {
        "id": "Q0Vb8m4ca1nP"
      },
      "execution_count": null,
      "outputs": []
    },
    {
      "cell_type": "markdown",
      "source": [
        "**Shuffling and Sorting**"
      ],
      "metadata": {
        "id": "5s2r9A8ma7xM"
      }
    },
    {
      "cell_type": "code",
      "source": [
        "def shuffle_and_sort(mapped_results):\n",
        "    shuffled_data = {}\n",
        "\n",
        "    # Group values by key (i, k)\n",
        "    for key, value in mapped_results:\n",
        "        if key in shuffled_data:\n",
        "            shuffled_data[key].append(value)\n",
        "        else:\n",
        "            shuffled_data[key] = [value]\n",
        "\n",
        "    return shuffled_data"
      ],
      "metadata": {
        "id": "NOJyBVJ8aYIJ"
      },
      "execution_count": null,
      "outputs": []
    },
    {
      "cell_type": "code",
      "source": [
        "shuffled_data = shuffle_and_sort(mapped_results)"
      ],
      "metadata": {
        "id": "yDeKFHtba7BW"
      },
      "execution_count": null,
      "outputs": []
    },
    {
      "cell_type": "markdown",
      "source": [
        "**Reduce Phase**"
      ],
      "metadata": {
        "id": "5fP9wwkEbBub"
      }
    },
    {
      "cell_type": "code",
      "source": [
        "def reducer(shuffled_data, n):\n",
        "    result_matrix = {}\n",
        "\n",
        "    # Compute the dot product for each key (i, k)\n",
        "    for key, values in shuffled_data.items():\n",
        "        i, k = key\n",
        "        A = {}\n",
        "        B = {}\n",
        "\n",
        "        # Populate A and B dictionaries\n",
        "        for value in values:\n",
        "            matrix, j, val = value\n",
        "            if matrix == \"A\":\n",
        "                A[j] = val\n",
        "            elif matrix == \"B\":\n",
        "                B[j] = val\n",
        "\n",
        "        # Compute the dot product\n",
        "        result = 0\n",
        "        for j in range(n):\n",
        "            if j in A and j in B:\n",
        "                result += A[j] * B[j]\n",
        "\n",
        "        # Store the result in the result matrix\n",
        "        result_matrix[(i, k)] = result\n",
        "\n",
        "    return result_matrix"
      ],
      "metadata": {
        "id": "AawcVbswag8a"
      },
      "execution_count": null,
      "outputs": []
    },
    {
      "cell_type": "code",
      "source": [
        "result_matrix = reducer(shuffled_data, n)"
      ],
      "metadata": {
        "id": "LXwZdUfrbAPl"
      },
      "execution_count": null,
      "outputs": []
    },
    {
      "cell_type": "markdown",
      "source": [
        "**Output**"
      ],
      "metadata": {
        "id": "-nDU5gFVbGFT"
      }
    },
    {
      "cell_type": "code",
      "source": [
        "print(\"Resultant Matrix C:\")\n",
        "for (i, k), value in result_matrix.items():\n",
        "  print(f\"C[{i}][{k}] = {value}\")"
      ],
      "metadata": {
        "colab": {
          "base_uri": "https://localhost:8080/"
        },
        "id": "YdE_wRjmbEtF",
        "outputId": "e9ff3004-d938-4b9f-829a-cb3e854f27e3"
      },
      "execution_count": null,
      "outputs": [
        {
          "output_type": "stream",
          "name": "stdout",
          "text": [
            "Resultant Matrix C:\n",
            "C[0][0] = 26\n",
            "C[0][1] = 28\n",
            "C[1][0] = 43\n",
            "C[1][1] = 44\n"
          ]
        }
      ]
    },
    {
      "cell_type": "code",
      "source": [],
      "metadata": {
        "id": "baxPAbz_bOlL"
      },
      "execution_count": null,
      "outputs": []
    }
  ]
}