{
  "nbformat": 4,
  "nbformat_minor": 0,
  "metadata": {
    "colab": {
      "provenance": []
    },
    "kernelspec": {
      "name": "python3",
      "display_name": "Python 3"
    },
    "language_info": {
      "name": "python"
    }
  },
  "cells": [
    {
      "cell_type": "code",
      "source": [
        "# Sample matrices A and B\n",
        "A = [\n",
        "        [1, 3],\n",
        "        [3, 4]\n",
        "    ]\n",
        "\n",
        "B = [\n",
        "        [5, 4],\n",
        "        [7, 8]\n",
        "    ]\n",
        "\n",
        "# Map Function: for each element in the resulting matrix, multiply the corresponding row of A and column of B\n",
        "def mapper(A, B):\n",
        "    rows_A = len(A)\n",
        "    cols_A = len(A[0])\n",
        "    cols_B = len(B[0])\n",
        "\n",
        "    result = []\n",
        "    for i in range(rows_A):  # Iterate over rows of A\n",
        "        for j in range(cols_B):  # Iterate over columns of B\n",
        "            product_sum = 0\n",
        "            for k in range(cols_A):  # Iterate over columns of A / rows of B\n",
        "                product_sum += A[i][k] * B[k][j]\n",
        "            result.append(((i, j), product_sum))  # Emit (i, j) -> value\n",
        "    return result\n",
        "\n",
        "# Reduce Function: simply returns the products calculated by mapper\n",
        "def reducer(mapped_results):\n",
        "    # Convert the list of (index, value) pairs to a dictionary\n",
        "    result_dict = {}\n",
        "    for (i, j), product in mapped_results:\n",
        "        result_dict[(i, j)] = product\n",
        "    return result_dict\n",
        "\n",
        "# Run the map function\n",
        "mapped = mapper(A, B)\n",
        "\n",
        "# Run the reduce function (in this case just returning the mapped data as a result)\n",
        "final_result = reducer(mapped)\n",
        "\n",
        "# Output the result matrix\n",
        "rows_A = len(A)\n",
        "cols_B = len(B)\n",
        "result_matrix = [[0] * cols_B for _ in range(rows_A)]\n",
        "\n",
        "# Fill the result matrix from the reduced data\n",
        "for (i, j), value in final_result.items():\n",
        "    result_matrix[i][j] = value\n",
        "\n",
        "# Output the result matrix\n",
        "print(\"Resulting Matrix C:\")\n",
        "for row in result_matrix:\n",
        "    print(row)\n"
      ],
      "metadata": {
        "id": "WFCxJYnYat12",
        "colab": {
          "base_uri": "https://localhost:8080/"
        },
        "outputId": "883d6539-cf1c-4767-aeef-3e09a7e17e85"
      },
      "execution_count": null,
      "outputs": [
        {
          "output_type": "stream",
          "name": "stdout",
          "text": [
            "Resulting Matrix C:\n",
            "[26, 28]\n",
            "[43, 44]\n"
          ]
        }
      ]
    },
    {
      "cell_type": "code",
      "source": [],
      "metadata": {
        "id": "baxPAbz_bOlL"
      },
      "execution_count": null,
      "outputs": []
    }
  ]
}